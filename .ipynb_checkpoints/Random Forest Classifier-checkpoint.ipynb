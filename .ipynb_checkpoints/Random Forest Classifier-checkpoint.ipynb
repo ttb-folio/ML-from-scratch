{
 "cells": [
  {
   "cell_type": "code",
   "execution_count": 1,
   "id": "76d6d1f6",
   "metadata": {},
   "outputs": [],
   "source": [
    "import numpy as np\n",
    "from numpy.random import randint\n",
    "from sklearn import datasets\n",
    "from sklearn.model_selection import train_test_split\n",
    "from sklearn.metrics import confusion_matrix\n",
    "from sklearn.tree import DecisionTreeClassifier\n",
    "import math as m\n",
    "from scipy.stats import mode\n",
    "\n",
    "array = np.array"
   ]
  },
  {
   "cell_type": "code",
   "execution_count": 2,
   "id": "7a0d7fa6",
   "metadata": {},
   "outputs": [],
   "source": [
    "class RandomForestClassifier:\n",
    "    def __init__(self, B = 100):\n",
    "        self.B = B\n",
    "        self.trees = []\n",
    "    def fit(self, X, y):\n",
    "        for b in range(self.B):\n",
    "            tree,random_subspace = train_tree_b(X,y)\n",
    "            self.trees.append((tree, random_subspace))\n",
    "    def predict(self, X):\n",
    "        if len(X) == 1:\n",
    "            predictions = predict_one(X)\n",
    "        else:\n",
    "            predictions = [clf.predict(X[:,subspace]) for (clf,subspace) in self.trees]\n",
    "            predictions = mode(predictions).mode.flatten()\n",
    "        return predictions \n",
    "    def predict_one(self, x):\n",
    "        predictions = [clf.predict(x[subspace].reshape(1,-1))[0] for (clf,subspace) in self.trees]\n",
    "        prediction = statistics.mode(predictions)\n",
    "        return prediction"
   ]
  },
  {
   "cell_type": "code",
   "execution_count": 3,
   "id": "c4628723",
   "metadata": {},
   "outputs": [],
   "source": [
    "#Some helper functions\n",
    "\n",
    "def train_tree_b(X,y):\n",
    "    clf_b = DecisionTreeClassifier()\n",
    "    X_b, y_b, random_feature_space = rand_sample_w_replacement(X,y)\n",
    "    clf_b.fit(X_b,y_b)\n",
    "    return clf_b, random_feature_space\n",
    "    \n",
    "def rand_sample_w_replacement(X,y):\n",
    "    num_samples,num_features = X.shape\n",
    "    random_sample_idx = random_idx_w_replacement(num_samples, num_samples)\n",
    "    random_feature_space = random_subspace(num_features)\n",
    "    resampledX = X[random_sample_idx][:,random_feature_space]\n",
    "    resampled_y = y[random_sample_idx]\n",
    "    return resampledX, resampled_y, random_feature_space\n",
    "\n",
    "def random_subspace(num_features):\n",
    "    if num_features > 10:\n",
    "        num_features_per_split = m.floor(m.sqrt(num_features))\n",
    "    else:\n",
    "        \n",
    "        num_features_per_split = m.floor(num_features*.75)\n",
    "    random_feature_idx = random_idx_w_replacement(num_features, num_features_per_split)\n",
    "    return random_feature_idx\n",
    "\n",
    "def random_idx_w_replacement(num_choices, num_samples):\n",
    "    sample = randint(0,num_choices,num_samples)\n",
    "    return sample"
   ]
  },
  {
   "cell_type": "code",
   "execution_count": 4,
   "id": "49a0120f",
   "metadata": {},
   "outputs": [
    {
     "data": {
      "text/plain": [
       "array([[50,  0,  0],\n",
       "       [ 0, 50,  0],\n",
       "       [ 0,  0, 50]])"
      ]
     },
     "execution_count": 4,
     "metadata": {},
     "output_type": "execute_result"
    }
   ],
   "source": [
    "# Can properly fit the data\n",
    "data = datasets.load_iris()\n",
    "X = data.data\n",
    "y = data.target\n",
    "\n",
    "myRFC = RandomForestClassifier()\n",
    "myRFC.fit(X,y)\n",
    "confusion_matrix(y,myRFC.predict(X))"
   ]
  },
  {
   "cell_type": "code",
   "execution_count": 5,
   "id": "7eab91b7",
   "metadata": {},
   "outputs": [
    {
     "name": "stdout",
     "output_type": "stream",
     "text": [
      "[[16  0  0]\n",
      " [ 0 10  2]\n",
      " [ 0  0 10]]\n",
      "[[16  0  0]\n",
      " [ 0 10  2]\n",
      " [ 0  0 10]]\n"
     ]
    }
   ],
   "source": [
    "#Comparison of performance to sklearn RFC testing on a hold-out set\n",
    "\n",
    "X_train, X_val, y_train, y_val = train_test_split(X,y)\n",
    "myRFC = RandomForestClassifier()\n",
    "myRFC.fit(X_train,y_train)\n",
    "\n",
    "predictions = myRFC.predict(X_val)\n",
    "print(confusion_matrix(y_val, predictions))\n",
    "\n",
    "from sklearn import ensemble\n",
    "skRFC = ensemble.RandomForestClassifier()\n",
    "skRFC.fit(X_train, y_train)\n",
    "\n",
    "predictions = skRFC.predict(X_val)\n",
    "print(confusion_matrix(y_val, predictions))"
   ]
  }
 ],
 "metadata": {
  "kernelspec": {
   "display_name": "Python 3",
   "language": "python",
   "name": "python3"
  },
  "language_info": {
   "codemirror_mode": {
    "name": "ipython",
    "version": 3
   },
   "file_extension": ".py",
   "mimetype": "text/x-python",
   "name": "python",
   "nbconvert_exporter": "python",
   "pygments_lexer": "ipython3",
   "version": "3.8.8"
  }
 },
 "nbformat": 4,
 "nbformat_minor": 5
}
